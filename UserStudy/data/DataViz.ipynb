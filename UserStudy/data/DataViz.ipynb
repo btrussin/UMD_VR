{
 "cells": [
  {
   "cell_type": "code",
   "execution_count": 2,
   "metadata": {
    "collapsed": true
   },
   "outputs": [],
   "source": [
    "import pandas as pd\n",
    "import numpy as np\n",
    "from scipy import stats\n",
    "import matplotlib.pyplot as plt"
   ]
  },
  {
   "cell_type": "code",
   "execution_count": 47,
   "metadata": {},
   "outputs": [
    {
     "data": {
      "text/html": [
       "<div>\n",
       "<style>\n",
       "    .dataframe thead tr:only-child th {\n",
       "        text-align: right;\n",
       "    }\n",
       "\n",
       "    .dataframe thead th {\n",
       "        text-align: left;\n",
       "    }\n",
       "\n",
       "    .dataframe tbody tr th {\n",
       "        vertical-align: top;\n",
       "    }\n",
       "</style>\n",
       "<table border=\"1\" class=\"dataframe\">\n",
       "  <thead>\n",
       "    <tr style=\"text-align: right;\">\n",
       "      <th></th>\n",
       "      <th>PID</th>\n",
       "      <th>Links</th>\n",
       "      <th>QT1NODE</th>\n",
       "      <th>QT1TimeNODE</th>\n",
       "      <th>QT1TScoreNODE</th>\n",
       "      <th>QT2NODE</th>\n",
       "      <th>QT2TimeAdjNODE</th>\n",
       "      <th>QT2BestNODE</th>\n",
       "      <th>QT2SecondBestNODE</th>\n",
       "      <th>QT2GoodNODE</th>\n",
       "      <th>...</th>\n",
       "      <th>QS1SPHERE</th>\n",
       "      <th>QS2SPHERE</th>\n",
       "      <th>QS3SPHERE</th>\n",
       "      <th>QS4SPHERE</th>\n",
       "      <th>QS5SPHERE</th>\n",
       "      <th>QS6SPHERE</th>\n",
       "      <th>QS7SPHERE</th>\n",
       "      <th>QS8SPHERE</th>\n",
       "      <th>QS9SPHERE</th>\n",
       "      <th>QS10SPHERE</th>\n",
       "    </tr>\n",
       "  </thead>\n",
       "  <tbody>\n",
       "    <tr>\n",
       "      <th>0</th>\n",
       "      <td>2</td>\n",
       "      <td>No</td>\n",
       "      <td>Marvel</td>\n",
       "      <td>00:37.7</td>\n",
       "      <td>1</td>\n",
       "      <td>Captain America: the First Avenger 2011</td>\n",
       "      <td>01:50.5</td>\n",
       "      <td>0</td>\n",
       "      <td>1</td>\n",
       "      <td>1</td>\n",
       "      <td>...</td>\n",
       "      <td>5</td>\n",
       "      <td>2</td>\n",
       "      <td>6</td>\n",
       "      <td>4</td>\n",
       "      <td>1</td>\n",
       "      <td>6</td>\n",
       "      <td>5</td>\n",
       "      <td>5</td>\n",
       "      <td>6</td>\n",
       "      <td>7</td>\n",
       "    </tr>\n",
       "    <tr>\n",
       "      <th>1</th>\n",
       "      <td>3</td>\n",
       "      <td>Yes</td>\n",
       "      <td>Marvel</td>\n",
       "      <td>03:59.3</td>\n",
       "      <td>1</td>\n",
       "      <td>Avengers: Age of Ultron 2015</td>\n",
       "      <td>01:08.8</td>\n",
       "      <td>1</td>\n",
       "      <td>1</td>\n",
       "      <td>1</td>\n",
       "      <td>...</td>\n",
       "      <td>5</td>\n",
       "      <td>4</td>\n",
       "      <td>6</td>\n",
       "      <td>5</td>\n",
       "      <td>2</td>\n",
       "      <td>6</td>\n",
       "      <td>6</td>\n",
       "      <td>5</td>\n",
       "      <td>5</td>\n",
       "      <td>4</td>\n",
       "    </tr>\n",
       "    <tr>\n",
       "      <th>2</th>\n",
       "      <td>4</td>\n",
       "      <td>No</td>\n",
       "      <td>DC</td>\n",
       "      <td>12:04.3</td>\n",
       "      <td>0</td>\n",
       "      <td>X-Men: Age of Apocalypse 2016</td>\n",
       "      <td>08:14.6</td>\n",
       "      <td>0</td>\n",
       "      <td>0</td>\n",
       "      <td>0</td>\n",
       "      <td>...</td>\n",
       "      <td>5</td>\n",
       "      <td>1</td>\n",
       "      <td>5</td>\n",
       "      <td>5</td>\n",
       "      <td>1</td>\n",
       "      <td>5</td>\n",
       "      <td>5</td>\n",
       "      <td>5</td>\n",
       "      <td>6</td>\n",
       "      <td>6</td>\n",
       "    </tr>\n",
       "    <tr>\n",
       "      <th>3</th>\n",
       "      <td>5</td>\n",
       "      <td>Yes</td>\n",
       "      <td>Marvel</td>\n",
       "      <td>00:11.1</td>\n",
       "      <td>1</td>\n",
       "      <td>Fantastic Four: Rise of the Silver Surfer 2007</td>\n",
       "      <td>00:36.7</td>\n",
       "      <td>0</td>\n",
       "      <td>0</td>\n",
       "      <td>1</td>\n",
       "      <td>...</td>\n",
       "      <td>3</td>\n",
       "      <td>2</td>\n",
       "      <td>4</td>\n",
       "      <td>4</td>\n",
       "      <td>3</td>\n",
       "      <td>3</td>\n",
       "      <td>4</td>\n",
       "      <td>5</td>\n",
       "      <td>4</td>\n",
       "      <td>2</td>\n",
       "    </tr>\n",
       "    <tr>\n",
       "      <th>4</th>\n",
       "      <td>6</td>\n",
       "      <td>No</td>\n",
       "      <td>DC</td>\n",
       "      <td>03:35.3</td>\n",
       "      <td>0</td>\n",
       "      <td>Avengers 2012</td>\n",
       "      <td>03:27.7</td>\n",
       "      <td>0</td>\n",
       "      <td>0</td>\n",
       "      <td>1</td>\n",
       "      <td>...</td>\n",
       "      <td>2</td>\n",
       "      <td>5</td>\n",
       "      <td>6</td>\n",
       "      <td>6</td>\n",
       "      <td>2</td>\n",
       "      <td>6</td>\n",
       "      <td>5</td>\n",
       "      <td>4</td>\n",
       "      <td>4</td>\n",
       "      <td>5</td>\n",
       "    </tr>\n",
       "  </tbody>\n",
       "</table>\n",
       "<p>5 rows × 62 columns</p>\n",
       "</div>"
      ],
      "text/plain": [
       "   PID Links QT1NODE QT1TimeNODE  QT1TScoreNODE  \\\n",
       "0    2    No  Marvel     00:37.7              1   \n",
       "1    3   Yes  Marvel     03:59.3              1   \n",
       "2    4    No      DC     12:04.3              0   \n",
       "3    5   Yes  Marvel     00:11.1              1   \n",
       "4    6    No      DC     03:35.3              0   \n",
       "\n",
       "                                          QT2NODE QT2TimeAdjNODE  QT2BestNODE  \\\n",
       "0         Captain America: the First Avenger 2011        01:50.5            0   \n",
       "1                    Avengers: Age of Ultron 2015        01:08.8            1   \n",
       "2                   X-Men: Age of Apocalypse 2016        08:14.6            0   \n",
       "3  Fantastic Four: Rise of the Silver Surfer 2007        00:36.7            0   \n",
       "4                                   Avengers 2012        03:27.7            0   \n",
       "\n",
       "   QT2SecondBestNODE  QT2GoodNODE    ...     QS1SPHERE QS2SPHERE  QS3SPHERE  \\\n",
       "0                  1            1    ...             5         2          6   \n",
       "1                  1            1    ...             5         4          6   \n",
       "2                  0            0    ...             5         1          5   \n",
       "3                  0            1    ...             3         2          4   \n",
       "4                  0            1    ...             2         5          6   \n",
       "\n",
       "   QS4SPHERE QS5SPHERE QS6SPHERE  QS7SPHERE  QS8SPHERE QS9SPHERE QS10SPHERE  \n",
       "0          4         1         6          5          5         6          7  \n",
       "1          5         2         6          6          5         5          4  \n",
       "2          5         1         5          5          5         6          6  \n",
       "3          4         3         3          4          5         4          2  \n",
       "4          6         2         6          5          4         4          5  \n",
       "\n",
       "[5 rows x 62 columns]"
      ]
     },
     "execution_count": 47,
     "metadata": {},
     "output_type": "execute_result"
    }
   ],
   "source": [
    "data = pd.read_csv(\"performancefinal.csv\")\n",
    "data.head()"
   ]
  },
  {
   "cell_type": "code",
   "execution_count": 4,
   "metadata": {
    "collapsed": true
   },
   "outputs": [],
   "source": [
    "a = data[\"QT1TScoreNODE\"]\n",
    "b = data[\"QT1TScoreSPHERE\"]"
   ]
  },
  {
   "cell_type": "code",
   "execution_count": 5,
   "metadata": {},
   "outputs": [
    {
     "data": {
      "text/plain": [
       "(array([0, 1]), array([ 8, 32]))"
      ]
     },
     "execution_count": 5,
     "metadata": {},
     "output_type": "execute_result"
    }
   ],
   "source": [
    "np.unique(a, return_counts=True)"
   ]
  },
  {
   "cell_type": "markdown",
   "metadata": {},
   "source": [
    "Shows the total number of correct answers for question 1 in the Node visualization."
   ]
  },
  {
   "cell_type": "code",
   "execution_count": 6,
   "metadata": {},
   "outputs": [
    {
     "data": {
      "text/plain": [
       "(array([0, 1]), array([ 1, 39]))"
      ]
     },
     "execution_count": 6,
     "metadata": {},
     "output_type": "execute_result"
    }
   ],
   "source": [
    "np.unique(b, return_counts=True)"
   ]
  },
  {
   "cell_type": "markdown",
   "metadata": {},
   "source": [
    "# Question/Task 1"
   ]
  },
  {
   "cell_type": "markdown",
   "metadata": {},
   "source": [
    "Shows the total number of correct answers for question 1 in the Node visualization."
   ]
  },
  {
   "cell_type": "code",
   "execution_count": 7,
   "metadata": {},
   "outputs": [
    {
     "data": {
      "image/png": "[encoded data removed]",
      "text/plain": [
       "<matplotlib.figure.Figure at 0x11b602e10>"
      ]
     },
     "metadata": {},
     "output_type": "display_data"
    },
    {
     "data": {
      "image/png": "[encoded data removed]",
      "text/plain": [
       "<matplotlib.figure.Figure at 0x11b6c9c90>"
      ]
     },
     "metadata": {},
     "output_type": "display_data"
    }
   ],
   "source": [
    "hist1 = data['QT1NODE'].value_counts().plot(kind='barh', colormap = \"Accent\", title = \"Node visualization\")\n",
    "plt.show()\n",
    "hist2 = data['QT1SPHERE'].value_counts().plot(kind='barh', title = \"Sphere visualization\")\n",
    "plt.show()"
   ]
  },
  {
   "cell_type": "markdown",
   "metadata": {},
   "source": [
    "The most common answer in the Node visualization is Marvel and we can see that there are many other options as well. DC being the second most selected. Whereas in the Sphere visualization, there are only two options that the participants selected, actually, only one participant chose Dark Horse, rest everyone selected the correct answer Marvel."
   ]
  },
  {
   "cell_type": "code",
   "execution_count": 46,
   "metadata": {},
   "outputs": [
    {
     "data": {
      "text/html": [
       "<div>\n",
       "<style>\n",
       "    .dataframe thead tr:only-child th {\n",
       "        text-align: right;\n",
       "    }\n",
       "\n",
       "    .dataframe thead th {\n",
       "        text-align: left;\n",
       "    }\n",
       "\n",
       "    .dataframe tbody tr th {\n",
       "        vertical-align: top;\n",
       "    }\n",
       "</style>\n",
       "<table border=\"1\" class=\"dataframe\">\n",
       "  <thead>\n",
       "    <tr style=\"text-align: right;\">\n",
       "      <th></th>\n",
       "      <th>PID</th>\n",
       "      <th>Links</th>\n",
       "      <th>QT1NODE</th>\n",
       "      <th>QT1TimeNODE</th>\n",
       "      <th>QT1TScoreNODE</th>\n",
       "      <th>QT2NODE</th>\n",
       "      <th>QT2TimeAdjNODE</th>\n",
       "      <th>QT2BestNODE</th>\n",
       "      <th>QT2SecondBestNODE</th>\n",
       "      <th>QT2GoodNODE</th>\n",
       "      <th>...</th>\n",
       "      <th>QS1SPHERE</th>\n",
       "      <th>QS2SPHERE</th>\n",
       "      <th>QS3SPHERE</th>\n",
       "      <th>QS4SPHERE</th>\n",
       "      <th>QS5SPHERE</th>\n",
       "      <th>QS6SPHERE</th>\n",
       "      <th>QS7SPHERE</th>\n",
       "      <th>QS8SPHERE</th>\n",
       "      <th>QS9SPHERE</th>\n",
       "      <th>QS10SPHERE</th>\n",
       "    </tr>\n",
       "  </thead>\n",
       "  <tbody>\n",
       "    <tr>\n",
       "      <th>0</th>\n",
       "      <td>2</td>\n",
       "      <td>No</td>\n",
       "      <td>Marvel</td>\n",
       "      <td>00:37.7</td>\n",
       "      <td>1</td>\n",
       "      <td>Captain America: the First Avenger 2011</td>\n",
       "      <td>01:50.5</td>\n",
       "      <td>0</td>\n",
       "      <td>1</td>\n",
       "      <td>1</td>\n",
       "      <td>...</td>\n",
       "      <td>5</td>\n",
       "      <td>2</td>\n",
       "      <td>6</td>\n",
       "      <td>4</td>\n",
       "      <td>1</td>\n",
       "      <td>6</td>\n",
       "      <td>5</td>\n",
       "      <td>5</td>\n",
       "      <td>6</td>\n",
       "      <td>7</td>\n",
       "    </tr>\n",
       "    <tr>\n",
       "      <th>1</th>\n",
       "      <td>3</td>\n",
       "      <td>Yes</td>\n",
       "      <td>Marvel</td>\n",
       "      <td>03:59.3</td>\n",
       "      <td>1</td>\n",
       "      <td>Avengers: Age of Ultron 2015</td>\n",
       "      <td>01:08.8</td>\n",
       "      <td>1</td>\n",
       "      <td>1</td>\n",
       "      <td>1</td>\n",
       "      <td>...</td>\n",
       "      <td>5</td>\n",
       "      <td>4</td>\n",
       "      <td>6</td>\n",
       "      <td>5</td>\n",
       "      <td>2</td>\n",
       "      <td>6</td>\n",
       "      <td>6</td>\n",
       "      <td>5</td>\n",
       "      <td>5</td>\n",
       "      <td>4</td>\n",
       "    </tr>\n",
       "    <tr>\n",
       "      <th>2</th>\n",
       "      <td>4</td>\n",
       "      <td>No</td>\n",
       "      <td>DC</td>\n",
       "      <td>12:04.3</td>\n",
       "      <td>0</td>\n",
       "      <td>X-Men: Age of Apocalypse 2016</td>\n",
       "      <td>08:14.6</td>\n",
       "      <td>0</td>\n",
       "      <td>0</td>\n",
       "      <td>0</td>\n",
       "      <td>...</td>\n",
       "      <td>5</td>\n",
       "      <td>1</td>\n",
       "      <td>5</td>\n",
       "      <td>5</td>\n",
       "      <td>1</td>\n",
       "      <td>5</td>\n",
       "      <td>5</td>\n",
       "      <td>5</td>\n",
       "      <td>6</td>\n",
       "      <td>6</td>\n",
       "    </tr>\n",
       "    <tr>\n",
       "      <th>3</th>\n",
       "      <td>5</td>\n",
       "      <td>Yes</td>\n",
       "      <td>Marvel</td>\n",
       "      <td>00:11.1</td>\n",
       "      <td>1</td>\n",
       "      <td>Fantastic Four: Rise of the Silver Surfer 2007</td>\n",
       "      <td>00:36.7</td>\n",
       "      <td>0</td>\n",
       "      <td>0</td>\n",
       "      <td>1</td>\n",
       "      <td>...</td>\n",
       "      <td>3</td>\n",
       "      <td>2</td>\n",
       "      <td>4</td>\n",
       "      <td>4</td>\n",
       "      <td>3</td>\n",
       "      <td>3</td>\n",
       "      <td>4</td>\n",
       "      <td>5</td>\n",
       "      <td>4</td>\n",
       "      <td>2</td>\n",
       "    </tr>\n",
       "    <tr>\n",
       "      <th>4</th>\n",
       "      <td>6</td>\n",
       "      <td>No</td>\n",
       "      <td>DC</td>\n",
       "      <td>03:35.3</td>\n",
       "      <td>0</td>\n",
       "      <td>Avengers 2012</td>\n",
       "      <td>03:27.7</td>\n",
       "      <td>0</td>\n",
       "      <td>0</td>\n",
       "      <td>1</td>\n",
       "      <td>...</td>\n",
       "      <td>2</td>\n",
       "      <td>5</td>\n",
       "      <td>6</td>\n",
       "      <td>6</td>\n",
       "      <td>2</td>\n",
       "      <td>6</td>\n",
       "      <td>5</td>\n",
       "      <td>4</td>\n",
       "      <td>4</td>\n",
       "      <td>5</td>\n",
       "    </tr>\n",
       "  </tbody>\n",
       "</table>\n",
       "<p>5 rows × 62 columns</p>\n",
       "</div>"
      ],
      "text/plain": [
       "   PID Links QT1NODE QT1TimeNODE  QT1TScoreNODE  \\\n",
       "0    2    No  Marvel     00:37.7              1   \n",
       "1    3   Yes  Marvel     03:59.3              1   \n",
       "2    4    No      DC     12:04.3              0   \n",
       "3    5   Yes  Marvel     00:11.1              1   \n",
       "4    6    No      DC     03:35.3              0   \n",
       "\n",
       "                                          QT2NODE QT2TimeAdjNODE  QT2BestNODE  \\\n",
       "0         Captain America: the First Avenger 2011        01:50.5            0   \n",
       "1                    Avengers: Age of Ultron 2015        01:08.8            1   \n",
       "2                   X-Men: Age of Apocalypse 2016        08:14.6            0   \n",
       "3  Fantastic Four: Rise of the Silver Surfer 2007        00:36.7            0   \n",
       "4                                   Avengers 2012        03:27.7            0   \n",
       "\n",
       "   QT2SecondBestNODE  QT2GoodNODE    ...     QS1SPHERE QS2SPHERE  QS3SPHERE  \\\n",
       "0                  1            1    ...             5         2          6   \n",
       "1                  1            1    ...             5         4          6   \n",
       "2                  0            0    ...             5         1          5   \n",
       "3                  0            1    ...             3         2          4   \n",
       "4                  0            1    ...             2         5          6   \n",
       "\n",
       "   QS4SPHERE QS5SPHERE QS6SPHERE  QS7SPHERE  QS8SPHERE QS9SPHERE QS10SPHERE  \n",
       "0          4         1         6          5          5         6          7  \n",
       "1          5         2         6          6          5         5          4  \n",
       "2          5         1         5          5          5         6          6  \n",
       "3          4         3         3          4          5         4          2  \n",
       "4          6         2         6          5          4         4          5  \n",
       "\n",
       "[5 rows x 62 columns]"
      ]
     },
     "execution_count": 46,
     "metadata": {},
     "output_type": "execute_result"
    }
   ],
   "source": [
    "df = pd.DataFrame(data)\n",
    "df.head()"
   ]
  },
  {
   "cell_type": "code",
   "execution_count": 9,
   "metadata": {
    "collapsed": true
   },
   "outputs": [],
   "source": [
    "linkOn = df[\"Links\"] == \"Yes\""
   ]
  },
  {
   "cell_type": "code",
   "execution_count": 10,
   "metadata": {
    "collapsed": true
   },
   "outputs": [],
   "source": [
    "correctAnsNode = df[\"QT1TScoreNODE\"] == 1"
   ]
  },
  {
   "cell_type": "code",
   "execution_count": 11,
   "metadata": {
    "collapsed": true
   },
   "outputs": [],
   "source": [
    "linkOff = df[\"Links\"] == \"No\""
   ]
  },
  {
   "cell_type": "code",
   "execution_count": 12,
   "metadata": {
    "collapsed": true
   },
   "outputs": [],
   "source": [
    "wrongAnsNode = df[\"QT1TScoreNODE\"] == 0"
   ]
  },
  {
   "cell_type": "code",
   "execution_count": 22,
   "metadata": {},
   "outputs": [
    {
     "data": {
      "text/plain": [
       "{'linksOff and right answer': 14,\n",
       " 'linksOff and wrong answer': 6,\n",
       " 'linksOn and right answer': 18,\n",
       " 'linksOn and wrong answer': 2}"
      ]
     },
     "execution_count": 22,
     "metadata": {},
     "output_type": "execute_result"
    }
   ],
   "source": [
    "z = {'linksOff and wrong answer': df[linkOff & wrongAnsNode].count()[0], 'linksOff and right answer': df[linkOff & correctAnsNode].count()[0], 'linksOn and wrong answer': df[linkOn & wrongAnsNode].count()[0], 'linksOn and right answer': df[linkOn & correctAnsNode].count()[0]}\n",
    "z"
   ]
  },
  {
   "cell_type": "markdown",
   "metadata": {},
   "source": [
    "Now to see was having links beneficial or not for each of the visualization, we see that 18 participants got the right answer with the links on and 14 with the links off. Which means, 90% accuracy with links on compared to the 70% without links."
   ]
  },
  {
   "cell_type": "code",
   "execution_count": 45,
   "metadata": {},
   "outputs": [
    {
     "data": {
      "text/plain": [
       "{'linksOff and right answer': 20,\n",
       " 'linksOff and wrong answer': 0,\n",
       " 'linksOn and right answer': 19,\n",
       " 'linksOn and wrong answer': 1}"
      ]
     },
     "execution_count": 45,
     "metadata": {},
     "output_type": "execute_result"
    }
   ],
   "source": [
    "correctAnsNode = df[\"QT1TScoreSPHERE\"] == 1\n",
    "wrongAnsNode = df[\"QT1TScoreSPHERE\"] == 0\n",
    "z = {'linksOff and wrong answer': df[linkOff & wrongAnsNode].count()[0], 'linksOff and right answer': df[linkOff & correctAnsNode].count()[0], 'linksOn and wrong answer': df[linkOn & wrongAnsNode].count()[0], 'linksOn and right answer': df[linkOn & correctAnsNode].count()[0]}\n",
    "z"
   ]
  },
  {
   "cell_type": "markdown",
   "metadata": {},
   "source": [
    "# Question/Task 2"
   ]
  },
  {
   "cell_type": "code",
   "execution_count": 15,
   "metadata": {},
   "outputs": [
    {
     "data": {
      "image/png": "[encoded data removed]",
      "text/plain": [
       "<matplotlib.figure.Figure at 0x11b764d10>"
      ]
     },
     "metadata": {},
     "output_type": "display_data"
    },
    {
     "data": {
      "image/png": "[encoded data removed]",
      "text/plain": [
       "<matplotlib.figure.Figure at 0x11ba4d4d0>"
      ]
     },
     "metadata": {},
     "output_type": "display_data"
    },
    {
     "data": {
      "image/png": "[encoded data removed]",
      "text/plain": [
       "<matplotlib.figure.Figure at 0x11bbafb10>"
      ]
     },
     "metadata": {},
     "output_type": "display_data"
    },
    {
     "data": {
      "image/png": "[encoded data removed]",
      "text/plain": [
       "<matplotlib.figure.Figure at 0x11b764e50>"
      ]
     },
     "metadata": {},
     "output_type": "display_data"
    }
   ],
   "source": [
    "hist1 = data['QT2BestNODE'].value_counts().plot(kind='barh', colormap = \"Accent\", title = \"Node visualization for correct answers\")\n",
    "plt.show()\n",
    "hist2 = data['QT2BestSPHERE'].value_counts().plot(kind='barh', title = \"Sphere visualization for correct answers\")\n",
    "plt.show()\n",
    "hist3 = data['QT2SecondBestNODE'].value_counts().plot(kind='barh', colormap = \"Accent\", title = \"Node visualization for 2nd best answers\")\n",
    "plt.show()\n",
    "hist4 = data['QT2SecondBestSPHERE'].value_counts().plot(kind='barh', title = \"Sphere visualization for 2nd best answers\")\n",
    "plt.show()"
   ]
  },
  {
   "cell_type": "markdown",
   "metadata": {},
   "source": [
    "As we can see from the graphs above, the Node visualization produced more right answers and also the most number of second best answers."
   ]
  },
  {
   "cell_type": "code",
   "execution_count": 32,
   "metadata": {},
   "outputs": [
    {
     "data": {
      "text/plain": [
       "{'linksOff and right answer': 5,\n",
       " 'linksOff and wrong answer': 15,\n",
       " 'linksOn and right answer': 5,\n",
       " 'linksOn and wrong answer': 15}"
      ]
     },
     "execution_count": 32,
     "metadata": {},
     "output_type": "execute_result"
    }
   ],
   "source": [
    "correctAnsNode = df[\"QT2SecondBestNODE\"] == 1\n",
    "wrongAnsNode = df[\"QT2SecondBestNODE\"] == 0\n",
    "z = {'linksOff and wrong answer': df[linkOff & wrongAnsNode].count()[0], 'linksOff and right answer': df[linkOff & correctAnsNode].count()[0], 'linksOn and wrong answer': df[linkOn & wrongAnsNode].count()[0], 'linksOn and right answer': df[linkOn & correctAnsNode].count()[0]}\n",
    "z"
   ]
  },
  {
   "cell_type": "code",
   "execution_count": 44,
   "metadata": {},
   "outputs": [
    {
     "data": {
      "text/plain": [
       "{'linksOff and right answer': 7,\n",
       " 'linksOff and wrong answer': 13,\n",
       " 'linksOn and right answer': 4,\n",
       " 'linksOn and wrong answer': 16}"
      ]
     },
     "execution_count": 44,
     "metadata": {},
     "output_type": "execute_result"
    }
   ],
   "source": [
    "correctAnsNode = df[\"QT2SecondBestSPHERE\"] == 1\n",
    "wrongAnsNode = df[\"QT2SecondBestSPHERE\"] == 0\n",
    "z = {'linksOff and wrong answer': df[linkOff & wrongAnsNode].count()[0], 'linksOff and right answer': df[linkOff & correctAnsNode].count()[0], 'linksOn and wrong answer': df[linkOn & wrongAnsNode].count()[0], 'linksOn and right answer': df[linkOn & correctAnsNode].count()[0]}\n",
    "z"
   ]
  },
  {
   "cell_type": "markdown",
   "metadata": {},
   "source": [
    "# Question/Task 3"
   ]
  },
  {
   "cell_type": "code",
   "execution_count": 33,
   "metadata": {},
   "outputs": [
    {
     "data": {
      "image/png": "[encoded data removed]",
      "text/plain": [
       "<matplotlib.figure.Figure at 0x11c3d6050>"
      ]
     },
     "metadata": {},
     "output_type": "display_data"
    },
    {
     "data": {
      "image/png": "[encoded data removed]",
      "text/plain": [
       "<matplotlib.figure.Figure at 0x11c55de50>"
      ]
     },
     "metadata": {},
     "output_type": "display_data"
    }
   ],
   "source": [
    "hist1 = data['QT3CorrectNODE'].value_counts().plot(kind='bar', colormap = \"Accent\", title = \"Node visualization for correct answers\")\n",
    "plt.show()\n",
    "hist2 = data['QT3CorrectSPHERE'].value_counts().plot(kind='bar', title = \"Sphere visualization for correct answers\")\n",
    "plt.show()"
   ]
  },
  {
   "cell_type": "markdown",
   "metadata": {},
   "source": [
    "In the Sphere visualization, most people got at least 1 right answer, whereas, in the Node visualization, most of the people got no right answers. There were more people in the Sphere visualization who got all 7 right answers."
   ]
  },
  {
   "cell_type": "code",
   "execution_count": 34,
   "metadata": {},
   "outputs": [
    {
     "data": {
      "text/plain": [
       "{'linksOff and right answer': 15,\n",
       " 'linksOff and wrong answer': 5,\n",
       " 'linksOn and right answer': 14,\n",
       " 'linksOn and wrong answer': 6}"
      ]
     },
     "execution_count": 34,
     "metadata": {},
     "output_type": "execute_result"
    }
   ],
   "source": [
    "correctAnsNode = df[\"QT3CorrectNODE\"] >= 1\n",
    "wrongAnsNode = df[\"QT3CorrectNODE\"] == 0\n",
    "z = {'linksOff and wrong answer': df[linkOff & wrongAnsNode].count()[0], 'linksOff and right answer': df[linkOff & correctAnsNode].count()[0], 'linksOn and wrong answer': df[linkOn & wrongAnsNode].count()[0], 'linksOn and right answer': df[linkOn & correctAnsNode].count()[0]}\n",
    "z"
   ]
  },
  {
   "cell_type": "code",
   "execution_count": 43,
   "metadata": {},
   "outputs": [
    {
     "data": {
      "text/plain": [
       "{'linksOff and right answer': 20,\n",
       " 'linksOff and wrong answer': 0,\n",
       " 'linksOn and right answer': 18,\n",
       " 'linksOn and wrong answer': 2}"
      ]
     },
     "execution_count": 43,
     "metadata": {},
     "output_type": "execute_result"
    }
   ],
   "source": [
    "correctAnsNode = df[\"QT3CorrectSPHERE\"] >= 1\n",
    "wrongAnsNode = df[\"QT3CorrectSPHERE\"] == 0\n",
    "z = {'linksOff and wrong answer': df[linkOff & wrongAnsNode].count()[0], 'linksOff and right answer': df[linkOff & correctAnsNode].count()[0], 'linksOn and wrong answer': df[linkOn & wrongAnsNode].count()[0], 'linksOn and right answer': df[linkOn & correctAnsNode].count()[0]}\n",
    "z"
   ]
  },
  {
   "cell_type": "code",
   "execution_count": 35,
   "metadata": {},
   "outputs": [
    {
     "data": {
      "image/png": "[encoded data removed]",
      "text/plain": [
       "<matplotlib.figure.Figure at 0x11c6bc8d0>"
      ]
     },
     "metadata": {},
     "output_type": "display_data"
    },
    {
     "data": {
      "image/png": "[encoded data removed]",
      "text/plain": [
       "<matplotlib.figure.Figure at 0x11c839d90>"
      ]
     },
     "metadata": {},
     "output_type": "display_data"
    }
   ],
   "source": [
    "hist1 = data['QT3ErrorsNODE'].value_counts().plot(kind='barh', colormap = \"Accent\", title = \"Node visualization for incorrect answers\")\n",
    "plt.show()\n",
    "hist2 = data['QT3ErrorsSPHERE'].value_counts().plot(kind='barh', title = \"Sphere visualization for incorrect answers\")\n",
    "plt.show()"
   ]
  },
  {
   "cell_type": "markdown",
   "metadata": {},
   "source": [
    "In this case, we see that there were few errors or movies selected that were not part of the correct answer list. More people got at least 1 wrong answer in the Node visualization. There is also an entry in the Sphere visualization with 8 incorrect answers, which we can clearly see is an outlier. There were also more correct movie selection in the Sphere visualization. "
   ]
  },
  {
   "cell_type": "code",
   "execution_count": 36,
   "metadata": {},
   "outputs": [
    {
     "data": {
      "text/plain": [
       "{'linksOff and # of errors': 5,\n",
       " 'linksOff and no errors': 15,\n",
       " 'linksOn # of errors': 8,\n",
       " 'linksOn and no errors': 12}"
      ]
     },
     "execution_count": 36,
     "metadata": {},
     "output_type": "execute_result"
    }
   ],
   "source": [
    "correctAnsNode = df[\"QT3ErrorsNODE\"] >= 1\n",
    "wrongAnsNode = df[\"QT3ErrorsNODE\"] == 0\n",
    "z = {'linksOff and no errors': df[linkOff & wrongAnsNode].count()[0], 'linksOff and # of errors': df[linkOff & correctAnsNode].count()[0], 'linksOn and no errors': df[linkOn & wrongAnsNode].count()[0], 'linksOn # of errors': df[linkOn & correctAnsNode].count()[0]}\n",
    "z"
   ]
  },
  {
   "cell_type": "code",
   "execution_count": 42,
   "metadata": {},
   "outputs": [
    {
     "data": {
      "text/plain": [
       "{'linksOff and # of errors': 3,\n",
       " 'linksOff and no errors': 17,\n",
       " 'linksOn # of errors': 4,\n",
       " 'linksOn and no errors': 16}"
      ]
     },
     "execution_count": 42,
     "metadata": {},
     "output_type": "execute_result"
    }
   ],
   "source": [
    "correctAnsNode = df[\"QT3ErrorsSPHERE\"] >= 1\n",
    "wrongAnsNode = df[\"QT3ErrorsSPHERE\"] == 0\n",
    "z = {'linksOff and no errors': df[linkOff & wrongAnsNode].count()[0], 'linksOff and # of errors': df[linkOff & correctAnsNode].count()[0], 'linksOn and no errors': df[linkOn & wrongAnsNode].count()[0], 'linksOn # of errors': df[linkOn & correctAnsNode].count()[0]}\n",
    "z"
   ]
  },
  {
   "cell_type": "markdown",
   "metadata": {},
   "source": [
    "# Question/Task 4"
   ]
  },
  {
   "cell_type": "code",
   "execution_count": 38,
   "metadata": {},
   "outputs": [
    {
     "data": {
      "image/png": "[encoded data removed]",
      "text/plain": [
       "<matplotlib.figure.Figure at 0x11c067f50>"
      ]
     },
     "metadata": {},
     "output_type": "display_data"
    },
    {
     "data": {
      "image/png": "[encoded data removed]",
      "text/plain": [
       "<matplotlib.figure.Figure at 0x11b8789d0>"
      ]
     },
     "metadata": {},
     "output_type": "display_data"
    }
   ],
   "source": [
    "hist1 = data['QT4GoodNODE'].value_counts().plot(kind='barh', colormap = \"Accent\", title = \"Node visualization for correct answers\")\n",
    "plt.show()\n",
    "hist2 = data['QT4GoodSPHERE'].value_counts().plot(kind='barh', title = \"Sphere visualization for correct answers\")\n",
    "plt.show()"
   ]
  },
  {
   "cell_type": "code",
   "execution_count": 39,
   "metadata": {},
   "outputs": [
    {
     "data": {
      "text/plain": [
       "{'linksOff and right answer': 10,\n",
       " 'linksOff and wrong answer': 10,\n",
       " 'linksOn and right answer': 7,\n",
       " 'linksOn and wrong answer': 13}"
      ]
     },
     "execution_count": 39,
     "metadata": {},
     "output_type": "execute_result"
    }
   ],
   "source": [
    "correctAnsNode = df[\"QT4GoodNODE\"] == 1\n",
    "wrongAnsNode = df[\"QT4GoodNODE\"] == 0\n",
    "z = {'linksOff and wrong answer': df[linkOff & wrongAnsNode].count()[0], 'linksOff and right answer': df[linkOff & correctAnsNode].count()[0], 'linksOn and wrong answer': df[linkOn & wrongAnsNode].count()[0], 'linksOn and right answer': df[linkOn & correctAnsNode].count()[0]}\n",
    "z"
   ]
  },
  {
   "cell_type": "code",
   "execution_count": 41,
   "metadata": {},
   "outputs": [
    {
     "data": {
      "text/plain": [
       "{'linksOff and right answer': 11,\n",
       " 'linksOff and wrong answer': 9,\n",
       " 'linksOn and right answer': 11,\n",
       " 'linksOn and wrong answer': 9}"
      ]
     },
     "execution_count": 41,
     "metadata": {},
     "output_type": "execute_result"
    }
   ],
   "source": [
    "correctAnsNode = df[\"QT4GoodSPHERE\"] == 1\n",
    "wrongAnsNode = df[\"QT4GoodSPHERE\"] == 0\n",
    "z = {'linksOff and wrong answer': df[linkOff & wrongAnsNode].count()[0], 'linksOff and right answer': df[linkOff & correctAnsNode].count()[0], 'linksOn and wrong answer': df[linkOn & wrongAnsNode].count()[0], 'linksOn and right answer': df[linkOn & correctAnsNode].count()[0]}\n",
    "z"
   ]
  },
  {
   "cell_type": "markdown",
   "metadata": {
    "collapsed": true
   },
   "source": [
    "# Hypotheses \n",
    "H1. There is a difference between the Graph conditions (Ring, Node) e.g., We expect the Ring condition to do better than the Node condition in most cases\n",
    "\n",
    "H2. There is a difference between the Link conditions (Links, No Links) e.g., We expect the Links condition to do better than the No Links condition in most cases\n",
    "\n",
    "H3. There are interactions between the Graph and Link conditions (Ring-Links, Ring-No Links, Node-Links, Node-No Links) e.g., We expect that the Ring Links condition will do better than the Ring No Links condition, and the Node Links condition might do better than the Ring No Links condition."
   ]
  },
  {
   "cell_type": "markdown",
   "metadata": {},
   "source": [
    "# Uniformity and Normality Q1"
   ]
  },
  {
   "cell_type": "code",
   "execution_count": 18,
   "metadata": {},
   "outputs": [
    {
     "data": {
      "text/plain": [
       "KstestResult(statistic=0.80000000000000004, pvalue=0.0)"
      ]
     },
     "execution_count": 18,
     "metadata": {},
     "output_type": "execute_result"
    }
   ],
   "source": [
    "#check for uniformity\n",
    "from scipy import stats\n",
    "stats.kstest(df[\"QT1TScoreNODE\"], stats.uniform(loc=0.0, scale=1.0).cdf)"
   ]
  },
  {
   "cell_type": "code",
   "execution_count": 19,
   "metadata": {},
   "outputs": [
    {
     "data": {
      "text/plain": [
       "KstestResult(statistic=0.64134474606854286, pvalue=2.2204460492503131e-16)"
      ]
     },
     "execution_count": 19,
     "metadata": {},
     "output_type": "execute_result"
    }
   ],
   "source": [
    "#check for normality\n",
    "stats.kstest(df[\"QT1TScoreNODE\"], 'norm')"
   ]
  },
  {
   "cell_type": "code",
   "execution_count": 20,
   "metadata": {},
   "outputs": [
    {
     "data": {
      "text/plain": [
       "KstestResult(statistic=0.97499999999999998, pvalue=0.0)"
      ]
     },
     "execution_count": 20,
     "metadata": {},
     "output_type": "execute_result"
    }
   ],
   "source": [
    "#check for uniformity\n",
    "stats.kstest(df[\"QT1TScoreSPHERE\"], stats.uniform(loc=0.0, scale=1.0).cdf)"
   ]
  },
  {
   "cell_type": "code",
   "execution_count": 21,
   "metadata": {},
   "outputs": [
    {
     "data": {
      "text/plain": [
       "KstestResult(statistic=0.8163447460685429, pvalue=0.0)"
      ]
     },
     "execution_count": 21,
     "metadata": {},
     "output_type": "execute_result"
    }
   ],
   "source": [
    "#check for normality\n",
    "stats.kstest(df[\"QT1TScoreSPHERE\"], 'norm')"
   ]
  },
  {
   "cell_type": "code",
   "execution_count": null,
   "metadata": {
    "collapsed": true
   },
   "outputs": [],
   "source": []
  }
 ],
 "metadata": {
  "kernelspec": {
   "display_name": "Python 2",
   "language": "python",
   "name": "python2"
  },
  "language_info": {
   "codemirror_mode": {
    "name": "ipython",
    "version": 2
   },
   "file_extension": ".py",
   "mimetype": "text/x-python",
   "name": "python",
   "nbconvert_exporter": "python",
   "pygments_lexer": "ipython2",
   "version": "2.7.13"
  }
 },
 "nbformat": 4,
 "nbformat_minor": 2
}
